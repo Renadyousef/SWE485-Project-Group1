{
 "cells": [
  {
   "cell_type": "markdown",
   "id": "3dd8796d-6472-406b-b2d4-0df7500e6dac",
   "metadata": {},
   "source": [
    "# Spam Email Detector System"
   ]
  },
  {
   "cell_type": "markdown",
   "id": "ec1219cc-448b-4ef5-945e-35b1e252e901",
   "metadata": {},
   "source": [
    "## Phase1: Problem Understanding and Data Exploration"
   ]
  },
  {
   "cell_type": "markdown",
   "id": "d87e3001-f4e5-486e-97ad-1c27e4b045c2",
   "metadata": {},
   "source": [
    "### 1. Problem Definition\n",
    "Spam emails are one of the most common online issues.\n",
    "They often contain scams, phishing links, or unwanted advertisements that can put users at risk.\n",
    "\n",
    "The main problem is to automatically detect and classify emails as spam or not spam (ham) based on their text content.\n",
    "This helps reduce user exposure to unsafe or irrelevant messages.\n",
    "\n",
    "\n",
    "### 2. Scope\n",
    "\n",
    "- Focuses on **text data** only (no images or attachments).  \n",
    "- Initially handles **English-language messages**.  \n",
    "- Provides **real-time or batch classification** of messages.  \n",
    "\n",
    "### 3. Team Role Distribution — Phase 1\n",
    "\n",
    "| Member | Role | Responsibilities |\n",
    "|---------|------|------------------|\n",
    "|  [fajr alkatheri] | **Data Cleaning & Handling Missing Values** | Checked, filled, and standardized missing data. Ensured dataset consistency and exported cleaned version. |\n",
    "| [renad] | **Feature Extraction** | Analyzed columns, decided which features to keep/drop, and created new features |\n",
    "| [rahaf & rawan] | **Text Preprocessing** | Cleaned email body (remove HTML tags, symbols), applied tokenization, normalized casing. |\n",
    "| [salha] | **Text Representation (Vectorization)** | Researched and implemented different text representation methods (TF-IDF, CountVectorizer). |\n",
    "\n",
    "\n",
    "### 4. Dataset Overview\n",
    "\n",
    "**Data Source Options:**  \n",
    "- [Phishing Email Dataset](https://www.kaggle.com/datasets/naserabdullahalam/phishing-email-dataset)  \n",
    "\n",
    "**Data Columns:**  \n",
    "- `sender`: Email or phone number of the message sender  \n",
    "- `receiver`: Recipient email or phone number  \n",
    "- `date`: Timestamp of the message  \n",
    "- `subject`: Subject line of the message  \n",
    "- `body`: Main content of the message (text)  \n",
    "- `label`: `if its spam 1` or `0` (number)  \n",
    "- `urls`: `if it contains a URL 1` or `0` (number)  \n",
    " \n",
    "\n",
    "### 5. Project Objective  \n",
    "This project aims to create a system that can automatically classifies incoming text messages or emails as **spam** or **not spam (ham)**.   \n",
    "It helps users know which messages are safe to open and which ones might be unwanted or risky.  \n",
    "\n",
    "Specifically, it will:  \n",
    "- Analyze the content of emails or SMS messages.  \n",
    "- Label messages as spam or ham.  \n",
    "- Help protect users from scams, phishing, and unwanted advertisements.  \n",
    "\n",
    "It works as a **binary classification model** that uses **text data** to make its predictions.  \n",
    "\n",
    "\n",
    "---\n",
    "\n",
    "\n",
    "\n",
    "\n"
   ]
  },
  {
   "cell_type": "markdown",
   "id": "8d23db26",
   "metadata": {},
   "source": [
    "---\n",
    "---\n",
    "\n",
    "# pre-process flow مسودة ونوتات ريناد"
   ]
  },
  {
   "cell_type": "markdown",
   "id": "f73b0a99",
   "metadata": {},
   "source": [
    "### sender / receiver: Optional to keep, mostly metadata"
   ]
  },
  {
   "cell_type": "markdown",
   "id": "19b1aa52",
   "metadata": {},
   "source": [
    "### subject / body: Critical for spam detection.\n",
    "\n",
    "### Missing body → drop row  or replace with empty string?.\n",
    "\n",
    "### Missing subject → replace with empty string."
   ]
  },
  {
   "cell_type": "markdown",
   "id": "a24474da",
   "metadata": {},
   "source": [
    "### urls / label: Must not be missing. Drop any row missing these."
   ]
  },
  {
   "cell_type": "markdown",
   "id": "3628a17e",
   "metadata": {},
   "source": [
    "### 2. Feature Extraction / Engineering\n",
    "### 1. Combine subject + body into a single text field for modeling i think for text represention as a vector\n",
    "### 2. extract text length as a numeric feature a new column\n",
    "### 3. maybe another column that counts a word occurence and all captical words in a text\n",
    "### 4. Sender/Receiver metadata (optional)\n",
    "\n",
    "### Could extract domains from email addresses: \"gmail.com\", \"yahoo.com\", etc.\n",
    "\n",
    "### Could count frequency of sender → some frequent spammers."
   ]
  },
  {
   "cell_type": "markdown",
   "id": "78d9cd8f",
   "metadata": {},
   "source": [
    "# 3. Text Preprocessing (NLP)\n",
    "\n",
    "### This is key for the text column (subject + body): i think we should combine it\n",
    "\n",
    "### 1.Cleaning\n",
    "\n",
    "### Remove HTML tags, punctuation, extra whitespace.\n",
    "\n",
    "### Keep uppercase info optionally (important for spam detection).\n",
    "\n",
    "### 2.Tokenization\n",
    "\n",
    "### Split text into words.\n",
    "\n",
    "### Stopword handling\n",
    "\n",
    "### Optional: sometimes keeping stopwords is better for spam detection.?\n",
    "\n",
    "### 3.Stemming / Lemmatization idk maybe not? for better detection ?\n",
    "\n",
    "\n",
    "### 4.Feature representation\n",
    "\n",
    "### Convert to numeric vectors: TF-IDF, Bag-of-Words, or word embeddings for model input."
   ]
  },
  {
   "cell_type": "markdown",
   "id": "fc8a7bb6",
   "metadata": {},
   "source": [
    "### Step 1: Set Up the Environment  \n",
    "\n",
    "We started by importing the necessary Python libraries and loading our dataset into a pandas DataFrame.  \n",
    "This step ensures that our environment is working correctly and that the dataset can be accessed for further analysis.  \n",
    "\n",
    "#### Code:\n"
   ]
  },
  {
   "cell_type": "code",
   "execution_count": 10,
   "id": "cb08a491-9dff-41f3-adaf-c0697ae38d5b",
   "metadata": {},
   "outputs": [],
   "source": [
    "import pandas as pd"
   ]
  },
  {
   "cell_type": "code",
   "execution_count": 11,
   "id": "adc8c66f-3b12-45e8-aec4-eefde7565891",
   "metadata": {},
   "outputs": [
    {
     "data": {
      "text/html": [
       "<div>\n",
       "<style scoped>\n",
       "    .dataframe tbody tr th:only-of-type {\n",
       "        vertical-align: middle;\n",
       "    }\n",
       "\n",
       "    .dataframe tbody tr th {\n",
       "        vertical-align: top;\n",
       "    }\n",
       "\n",
       "    .dataframe thead th {\n",
       "        text-align: right;\n",
       "    }\n",
       "</style>\n",
       "<table border=\"1\" class=\"dataframe\">\n",
       "  <thead>\n",
       "    <tr style=\"text-align: right;\">\n",
       "      <th></th>\n",
       "      <th>sender</th>\n",
       "      <th>receiver</th>\n",
       "      <th>date</th>\n",
       "      <th>subject</th>\n",
       "      <th>body</th>\n",
       "      <th>label</th>\n",
       "      <th>urls</th>\n",
       "    </tr>\n",
       "  </thead>\n",
       "  <tbody>\n",
       "    <tr>\n",
       "      <th>0</th>\n",
       "      <td>Young Esposito &lt;Young@iworld.de&gt;</td>\n",
       "      <td>user4@gvc.ceas-challenge.cc</td>\n",
       "      <td>Tue, 05 Aug 2008 16:31:02 -0700</td>\n",
       "      <td>Never agree to be a loser</td>\n",
       "      <td>Buck up, your troubles caused by small dimensi...</td>\n",
       "      <td>1</td>\n",
       "      <td>1</td>\n",
       "    </tr>\n",
       "    <tr>\n",
       "      <th>1</th>\n",
       "      <td>Mok &lt;ipline's1983@icable.ph&gt;</td>\n",
       "      <td>user2.2@gvc.ceas-challenge.cc</td>\n",
       "      <td>Tue, 05 Aug 2008 18:31:03 -0500</td>\n",
       "      <td>Befriend Jenna Jameson</td>\n",
       "      <td>\\nUpgrade your sex and pleasures with these te...</td>\n",
       "      <td>1</td>\n",
       "      <td>1</td>\n",
       "    </tr>\n",
       "    <tr>\n",
       "      <th>2</th>\n",
       "      <td>Daily Top 10 &lt;Karmandeep-opengevl@universalnet...</td>\n",
       "      <td>user2.9@gvc.ceas-challenge.cc</td>\n",
       "      <td>Tue, 05 Aug 2008 20:28:00 -1200</td>\n",
       "      <td>CNN.com Daily Top 10</td>\n",
       "      <td>&gt;+=+=+=+=+=+=+=+=+=+=+=+=+=+=+=+=+=+=+=+=+=+=+...</td>\n",
       "      <td>1</td>\n",
       "      <td>1</td>\n",
       "    </tr>\n",
       "    <tr>\n",
       "      <th>3</th>\n",
       "      <td>Michael Parker &lt;ivqrnai@pobox.com&gt;</td>\n",
       "      <td>SpamAssassin Dev &lt;xrh@spamassassin.apache.org&gt;</td>\n",
       "      <td>Tue, 05 Aug 2008 17:31:20 -0600</td>\n",
       "      <td>Re: svn commit: r619753 - in /spamassassin/tru...</td>\n",
       "      <td>Would anyone object to removing .so from this ...</td>\n",
       "      <td>0</td>\n",
       "      <td>1</td>\n",
       "    </tr>\n",
       "    <tr>\n",
       "      <th>4</th>\n",
       "      <td>Gretchen Suggs &lt;externalsep1@loanofficertool.com&gt;</td>\n",
       "      <td>user2.2@gvc.ceas-challenge.cc</td>\n",
       "      <td>Tue, 05 Aug 2008 19:31:21 -0400</td>\n",
       "      <td>SpecialPricesPharmMoreinfo</td>\n",
       "      <td>\\nWelcomeFastShippingCustomerSupport\\nhttp://7...</td>\n",
       "      <td>1</td>\n",
       "      <td>1</td>\n",
       "    </tr>\n",
       "  </tbody>\n",
       "</table>\n",
       "</div>"
      ],
      "text/plain": [
       "                                              sender  \\\n",
       "0                   Young Esposito <Young@iworld.de>   \n",
       "1                       Mok <ipline's1983@icable.ph>   \n",
       "2  Daily Top 10 <Karmandeep-opengevl@universalnet...   \n",
       "3                 Michael Parker <ivqrnai@pobox.com>   \n",
       "4  Gretchen Suggs <externalsep1@loanofficertool.com>   \n",
       "\n",
       "                                         receiver  \\\n",
       "0                     user4@gvc.ceas-challenge.cc   \n",
       "1                   user2.2@gvc.ceas-challenge.cc   \n",
       "2                   user2.9@gvc.ceas-challenge.cc   \n",
       "3  SpamAssassin Dev <xrh@spamassassin.apache.org>   \n",
       "4                   user2.2@gvc.ceas-challenge.cc   \n",
       "\n",
       "                              date  \\\n",
       "0  Tue, 05 Aug 2008 16:31:02 -0700   \n",
       "1  Tue, 05 Aug 2008 18:31:03 -0500   \n",
       "2  Tue, 05 Aug 2008 20:28:00 -1200   \n",
       "3  Tue, 05 Aug 2008 17:31:20 -0600   \n",
       "4  Tue, 05 Aug 2008 19:31:21 -0400   \n",
       "\n",
       "                                             subject  \\\n",
       "0                          Never agree to be a loser   \n",
       "1                             Befriend Jenna Jameson   \n",
       "2                               CNN.com Daily Top 10   \n",
       "3  Re: svn commit: r619753 - in /spamassassin/tru...   \n",
       "4                         SpecialPricesPharmMoreinfo   \n",
       "\n",
       "                                                body  label  urls  \n",
       "0  Buck up, your troubles caused by small dimensi...      1     1  \n",
       "1  \\nUpgrade your sex and pleasures with these te...      1     1  \n",
       "2  >+=+=+=+=+=+=+=+=+=+=+=+=+=+=+=+=+=+=+=+=+=+=+...      1     1  \n",
       "3  Would anyone object to removing .so from this ...      0     1  \n",
       "4  \\nWelcomeFastShippingCustomerSupport\\nhttp://7...      1     1  "
      ]
     },
     "execution_count": 11,
     "metadata": {},
     "output_type": "execute_result"
    }
   ],
   "source": [
    "df=pd.read_csv(\"CEAS_08.csv\")\n",
    "df.head()\n",
    "#if lable 1 its a scamming email if 0 no"
   ]
  },
  {
   "cell_type": "code",
   "execution_count": 12,
   "id": "2840a2f1-e614-42f1-8266-e2d0f8c88e90",
   "metadata": {},
   "outputs": [
    {
     "data": {
      "text/plain": [
       "39154"
      ]
     },
     "execution_count": 12,
     "metadata": {},
     "output_type": "execute_result"
    }
   ],
   "source": [
    "len(df)"
   ]
  },
  {
   "cell_type": "code",
   "execution_count": 13,
   "id": "941fc786-4a26-4378-bc6c-1f269a28c378",
   "metadata": {},
   "outputs": [
    {
     "name": "stdout",
     "output_type": "stream",
     "text": [
      "detailed: (39154, 7) label\n",
      "1    21842\n",
      "0    17312\n",
      "Name: count, dtype: int64\n"
     ]
    }
   ],
   "source": [
    "print(\"detailed:\", df.shape, df['label'].value_counts())"
   ]
  },
  {
   "cell_type": "markdown",
   "id": "dd490d30",
   "metadata": {},
   "source": [
    "**Summary:**  \n",
    "The dataset contains **39,154 rows and 7 columns**.  \n",
    "It includes **21,842 spam (1)** and **17,312 ham (0)** messages, showing a relatively balanced distribution between the two classes.\n",
    "\n"
   ]
  },
  {
   "cell_type": "markdown",
   "id": "f8c2c4a9",
   "metadata": {},
   "source": [
    "---\n",
    "\n",
    "### Step 2: Exploring the Dataset  \n",
    "\n",
    "Quick look at the data to check size and class balance before cleaning."
   ]
  },
  {
   "cell_type": "code",
   "execution_count": 30,
   "id": "29e8af32-7198-4ea2-bd31-121357a1591f",
   "metadata": {},
   "outputs": [
    {
     "name": "stdout",
     "output_type": "stream",
     "text": [
      "Shape: (39154, 7)\n",
      "Label counts:\n",
      " label\n",
      "0    17312\n",
      "1    21842\n",
      "Name: count, dtype: int64\n"
     ]
    }
   ],
   "source": [
    "# Shape + label balance \n",
    "print(\"Shape:\", df.shape)\n",
    "label_counts = df[\"label\"].value_counts().sort_index()  # 0, 1\n",
    "print(\"Label counts:\\n\", label_counts)"
   ]
  },
  {
   "cell_type": "markdown",
   "id": "e9871770",
   "metadata": {},
   "source": [
    "\n",
    "**Summary:**  \n",
    "The dataset contains **39,154 rows** and **7 columns**.  \n",
    "There are slightly more spam emails (label 1) than ham emails (label 0), but the classes are fairly balanced overall.  "
   ]
  },
  {
   "cell_type": "code",
   "execution_count": 39,
   "id": "7f69c1c1",
   "metadata": {},
   "outputs": [
    {
     "data": {
      "image/png": "[encoded data removed]",
      "text/plain": [
       "<Figure size 640x480 with 1 Axes>"
      ]
     },
     "metadata": {},
     "output_type": "display_data"
    }
   ],
   "source": [
    "# Bar chart: label distribution (from the data)\n",
    "import matplotlib.pyplot as plt\n",
    "\n",
    "labels = [\"Ham (0)\", \"Spam (1)\"]\n",
    "counts = label_counts.reindex([0, 1], fill_value=0).values\n",
    "\n",
    "plt.bar(labels, counts, color=['green', 'red'])  # Ham = orange, Spam = red/salmon\n",
    "plt.title(\"Emails Label Distribution\")\n",
    "plt.ylabel(\"Number of messages\")\n",
    "plt.show()"
   ]
  },
  {
   "cell_type": "markdown",
   "id": "9269557d",
   "metadata": {},
   "source": [
    "**Summary:**  \n",
    "The chart shows the two classes are close in size, which is good for training."
   ]
  },
  {
   "cell_type": "code",
   "execution_count": 38,
   "id": "52514c66-d43c-432b-a242-8473d13b3070",
   "metadata": {},
   "outputs": [
    {
     "data": {
      "image/png": "[encoded data removed]",
      "text/plain": [
       "<Figure size 640x480 with 1 Axes>"
      ]
     },
     "metadata": {},
     "output_type": "display_data"
    }
   ],
   "source": [
    "# Explore if URLs affect spam likelihood (no seaborn)\n",
    "import matplotlib.pyplot as plt\n",
    "\n",
    "url_table = (\n",
    "    df.groupby([\"urls\", \"label\"])\n",
    "      .size()\n",
    "      .unstack(fill_value=0)\n",
    "      .reindex(index=[0, 1], fill_value=0)\n",
    ")\n",
    "\n",
    "x = [0, 1]  # 0 = no URL, 1 = has URL\n",
    "ham = url_table.get(0, [0, 0]).values\n",
    "spam = url_table.get(1, [0, 0]).values\n",
    "\n",
    "width = 0.35\n",
    "plt.figure()\n",
    "plt.bar([i - width/2 for i in x], ham, width, color='orange', label=\"Ham (0)\")\n",
    "plt.bar([i + width/2 for i in x], spam, width, color='salmon', label=\"Spam (1)\")\n",
    "plt.xticks(x, [\"No URL (0)\", \"Has URL (1)\"])\n",
    "plt.title(\"URLs vs. Spam Label\")\n",
    "plt.ylabel(\"Number of messages\")\n",
    "plt.legend()\n",
    "plt.show()"
   ]
  },
  {
   "cell_type": "markdown",
   "id": "b3fc84b7",
   "metadata": {},
   "source": [
    "**Summary:**  \n",
    "This chart shows how the presence of URLs in an email relates to whether it’s spam or not.  \n",
    "We noticed that most spam emails contain URLs, which makes sense since phishing and scam messages often include links.  "
   ]
  },
  {
   "cell_type": "markdown",
   "id": "b9b96e9f",
   "metadata": {},
   "source": [
    "---\n",
    "\n",
    "### Step 3: Data Cleaning and Handling Missing Values \n",
    "\n",
    "In this step, we cleaned the dataset to make sure it’s complete and consistent before moving forward.  \n",
    "We mainly focused on handling missing values, fixing data types, and ensuring that important columns don’t contain empty or invalid data.\n"
   ]
  },
  {
   "cell_type": "code",
   "execution_count": 17,
   "id": "efc0c46f",
   "metadata": {},
   "outputs": [
    {
     "data": {
      "text/html": [
       "<div>\n",
       "<style scoped>\n",
       "    .dataframe tbody tr th:only-of-type {\n",
       "        vertical-align: middle;\n",
       "    }\n",
       "\n",
       "    .dataframe tbody tr th {\n",
       "        vertical-align: top;\n",
       "    }\n",
       "\n",
       "    .dataframe thead th {\n",
       "        text-align: right;\n",
       "    }\n",
       "</style>\n",
       "<table border=\"1\" class=\"dataframe\">\n",
       "  <thead>\n",
       "    <tr style=\"text-align: right;\">\n",
       "      <th></th>\n",
       "      <th>Missing Count</th>\n",
       "      <th>Missing %</th>\n",
       "    </tr>\n",
       "  </thead>\n",
       "  <tbody>\n",
       "    <tr>\n",
       "      <th>receiver</th>\n",
       "      <td>462</td>\n",
       "      <td>1.18</td>\n",
       "    </tr>\n",
       "    <tr>\n",
       "      <th>subject</th>\n",
       "      <td>28</td>\n",
       "      <td>0.07</td>\n",
       "    </tr>\n",
       "    <tr>\n",
       "      <th>sender</th>\n",
       "      <td>0</td>\n",
       "      <td>0.00</td>\n",
       "    </tr>\n",
       "    <tr>\n",
       "      <th>date</th>\n",
       "      <td>0</td>\n",
       "      <td>0.00</td>\n",
       "    </tr>\n",
       "    <tr>\n",
       "      <th>body</th>\n",
       "      <td>0</td>\n",
       "      <td>0.00</td>\n",
       "    </tr>\n",
       "    <tr>\n",
       "      <th>label</th>\n",
       "      <td>0</td>\n",
       "      <td>0.00</td>\n",
       "    </tr>\n",
       "    <tr>\n",
       "      <th>urls</th>\n",
       "      <td>0</td>\n",
       "      <td>0.00</td>\n",
       "    </tr>\n",
       "  </tbody>\n",
       "</table>\n",
       "</div>"
      ],
      "text/plain": [
       "          Missing Count  Missing %\n",
       "receiver            462       1.18\n",
       "subject              28       0.07\n",
       "sender                0       0.00\n",
       "date                  0       0.00\n",
       "body                  0       0.00\n",
       "label                 0       0.00\n",
       "urls                  0       0.00"
      ]
     },
     "execution_count": 17,
     "metadata": {},
     "output_type": "execute_result"
    }
   ],
   "source": [
    "# We’ll use a helper function (missing_report) to display the missing count and percentage clearly.\n",
    "\n",
    "def missing_report(frame):\n",
    "    mc = frame.isna().sum()\n",
    "    mp = (frame.isna().mean() * 100).round(2)\n",
    "    rep = (\n",
    "        pd.concat([mc.rename(\"Missing Count\"), mp.rename(\"Missing %\")], axis=1)\n",
    "        .sort_values(\"Missing %\", ascending=False)\n",
    "    )\n",
    "    return rep\n",
    "\n",
    "missing_before = missing_report(df)\n",
    "missing_before\n"
   ]
  },
  {
   "cell_type": "markdown",
   "id": "3ca8eee5",
   "metadata": {},
   "source": [
    "**Observation:**  \n",
    "We found a small percentage of missing data:\n",
    "- `receiver` column has around **1.18%** missing values.  \n",
    "- `subject` column has around **0.07%** missing values.  \n",
    "- All other columns are complete (`body`, `label`, `urls`, `date`, and `sender`).  "
   ]
  },
  {
   "cell_type": "markdown",
   "id": "ae9f4dfc",
   "metadata": {},
   "source": [
    "**Handling Missing Values Code:**"
   ]
  },
  {
   "cell_type": "code",
   "execution_count": 19,
   "id": "14079173",
   "metadata": {},
   "outputs": [
    {
     "data": {
      "text/html": [
       "<div>\n",
       "<style scoped>\n",
       "    .dataframe tbody tr th:only-of-type {\n",
       "        vertical-align: middle;\n",
       "    }\n",
       "\n",
       "    .dataframe tbody tr th {\n",
       "        vertical-align: top;\n",
       "    }\n",
       "\n",
       "    .dataframe thead th {\n",
       "        text-align: right;\n",
       "    }\n",
       "</style>\n",
       "<table border=\"1\" class=\"dataframe\">\n",
       "  <thead>\n",
       "    <tr style=\"text-align: right;\">\n",
       "      <th></th>\n",
       "      <th>Missing Count</th>\n",
       "      <th>Missing %</th>\n",
       "    </tr>\n",
       "  </thead>\n",
       "  <tbody>\n",
       "    <tr>\n",
       "      <th>sender</th>\n",
       "      <td>0</td>\n",
       "      <td>0.0</td>\n",
       "    </tr>\n",
       "    <tr>\n",
       "      <th>receiver</th>\n",
       "      <td>0</td>\n",
       "      <td>0.0</td>\n",
       "    </tr>\n",
       "    <tr>\n",
       "      <th>date</th>\n",
       "      <td>0</td>\n",
       "      <td>0.0</td>\n",
       "    </tr>\n",
       "    <tr>\n",
       "      <th>subject</th>\n",
       "      <td>0</td>\n",
       "      <td>0.0</td>\n",
       "    </tr>\n",
       "    <tr>\n",
       "      <th>body</th>\n",
       "      <td>0</td>\n",
       "      <td>0.0</td>\n",
       "    </tr>\n",
       "    <tr>\n",
       "      <th>label</th>\n",
       "      <td>0</td>\n",
       "      <td>0.0</td>\n",
       "    </tr>\n",
       "    <tr>\n",
       "      <th>urls</th>\n",
       "      <td>0</td>\n",
       "      <td>0.0</td>\n",
       "    </tr>\n",
       "  </tbody>\n",
       "</table>\n",
       "</div>"
      ],
      "text/plain": [
       "          Missing Count  Missing %\n",
       "sender                0        0.0\n",
       "receiver              0        0.0\n",
       "date                  0        0.0\n",
       "subject               0        0.0\n",
       "body                  0        0.0\n",
       "label                 0        0.0\n",
       "urls                  0        0.0"
      ]
     },
     "execution_count": 19,
     "metadata": {},
     "output_type": "execute_result"
    }
   ],
   "source": [
    "# Handle missing values carefully\n",
    "# receiver: replace missing with empty string (\"\") to avoid bias\n",
    "# subject: replace missing with \"No Subject\" since many real emails have no subject\n",
    "\n",
    "df['receiver'] = df['receiver'].fillna(\"\")\n",
    "df['subject'] = df['subject'].fillna(\"No Subject\")\n",
    "\n",
    "# Verify again\n",
    "missing_after = missing_report(df)\n",
    "missing_after\n"
   ]
  },
  {
   "cell_type": "markdown",
   "id": "43ff765a",
   "metadata": {},
   "source": [
    "**Explanation**\n",
    "\n",
    "For the `receiver` column, we decided to fill missing values with an empty string (`\"\"`) instead of a fake email.  \n",
    "We first considered adding a placeholder such as `\"unknown@gvc.ceas-challenge.cc\"`,  \n",
    "but we realized this could make the model learn a false pattern. \n",
    "\n",
    "For the subject column, we replaced missing values with \"No Subject\" since some real emails don’t have a subject line.\n"
   ]
  },
  {
   "cell_type": "markdown",
   "id": "c5fb1154",
   "metadata": {},
   "source": [
    "**checking data types** :"
   ]
  },
  {
   "cell_type": "code",
   "execution_count": 20,
   "id": "931f224c",
   "metadata": {},
   "outputs": [
    {
     "name": "stdout",
     "output_type": "stream",
     "text": [
      "Dtypes BEFORE:\n",
      " sender      object\n",
      "receiver    object\n",
      "date        object\n",
      "subject     object\n",
      "body        object\n",
      "label        int64\n",
      "urls         int64\n",
      "dtype: object \n",
      "\n",
      "Unique values in `label` (sample): [1 0]\n",
      "Unique values in `urls` (sample): [1 0]\n"
     ]
    }
   ],
   "source": [
    "# Inspect dtypes before fixing\n",
    "print(\"Dtypes BEFORE:\\n\", df.dtypes, \"\\n\")\n",
    "\n",
    "# Quick peek at unique values for binary columns (if present)\n",
    "for col in [\"label\", \"urls\"]:\n",
    "    if col in df.columns:\n",
    "        print(f\"Unique values in `{col}` (sample):\", df[col].dropna().unique()[:10])\n"
   ]
  },
  {
   "cell_type": "markdown",
   "id": "51d16d86",
   "metadata": {},
   "source": [
    "**Summary:**  \n",
    "We checked the data types of all columns to make sure they were correctly recognized.  \n",
    "Both `label` and `urls` columns contained only 0 and 1 values, which confirms they are properly encoded as binary features.  "
   ]
  },
  {
   "cell_type": "markdown",
   "id": "e51275eb",
   "metadata": {},
   "source": [
    "**Cleaning Text Columns** :"
   ]
  },
  {
   "cell_type": "code",
   "execution_count": 21,
   "id": "b8a14e70",
   "metadata": {},
   "outputs": [
    {
     "name": "stdout",
     "output_type": "stream",
     "text": [
      "✅ Text fields cleaned (trimmed and normalized).\n"
     ]
    }
   ],
   "source": [
    "# Clean and standardize text columns\n",
    "text_cols = [c for c in [\"sender\", \"receiver\", \"subject\", \"body\"] if c in df.columns]\n",
    "\n",
    "for col in text_cols:\n",
    "    df[col] = (\n",
    "        df[col]\n",
    "        .astype(str)\n",
    "        .str.strip()                # remove leading/trailing spaces\n",
    "        .str.replace(r\"\\s+\", \" \", regex=True)  # collapse multiple spaces\n",
    "    )\n",
    "\n",
    "print(\"✅ Text fields cleaned (trimmed and normalized).\")\n"
   ]
  },
  {
   "cell_type": "markdown",
   "id": "7e2d7e68",
   "metadata": {},
   "source": [
    "**Result:**  \n",
    "All text-based columns (`sender`, `receiver`, `subject`, `body`) were converted to clean, uniform strings.  \n",
    "Extra whitespace was removed, and spacing was normalized.  \n",
    "This ensures the text is ready for NLP preprocessing in the next phase.\n"
   ]
  },
  {
   "cell_type": "markdown",
   "id": "706f468f",
   "metadata": {},
   "source": [
    "**final verification after cleaning** :"
   ]
  },
  {
   "cell_type": "code",
   "execution_count": 22,
   "id": "c5ffe8c9",
   "metadata": {},
   "outputs": [
    {
     "name": "stdout",
     "output_type": "stream",
     "text": [
      "Missing values per column (AFTER):\n",
      " sender      0\n",
      "receiver    0\n",
      "date        0\n",
      "subject     0\n",
      "body        0\n",
      "label       0\n",
      "urls        0\n",
      "dtype: int64 \n",
      "\n",
      "Dtypes AFTER:\n",
      " sender      object\n",
      "receiver    object\n",
      "date        object\n",
      "subject     object\n",
      "body        object\n",
      "label        int64\n",
      "urls         int64\n",
      "dtype: object \n",
      "\n",
      "Unique values in `label`: [0, 1]\n",
      "Unique values in `urls`: [0, 1]\n"
     ]
    },
    {
     "data": {
      "text/html": [
       "<div>\n",
       "<style scoped>\n",
       "    .dataframe tbody tr th:only-of-type {\n",
       "        vertical-align: middle;\n",
       "    }\n",
       "\n",
       "    .dataframe tbody tr th {\n",
       "        vertical-align: top;\n",
       "    }\n",
       "\n",
       "    .dataframe thead th {\n",
       "        text-align: right;\n",
       "    }\n",
       "</style>\n",
       "<table border=\"1\" class=\"dataframe\">\n",
       "  <thead>\n",
       "    <tr style=\"text-align: right;\">\n",
       "      <th></th>\n",
       "      <th>sender</th>\n",
       "      <th>receiver</th>\n",
       "      <th>subject</th>\n",
       "      <th>body</th>\n",
       "      <th>label</th>\n",
       "      <th>urls</th>\n",
       "    </tr>\n",
       "  </thead>\n",
       "  <tbody>\n",
       "    <tr>\n",
       "      <th>7775</th>\n",
       "      <td>John McCreesh &lt;ygpeu@openoffice.org&gt;</td>\n",
       "      <td>askfvcva@openoffice.org</td>\n",
       "      <td>[ooo-announce] The OpenOffice.org Annual Confe...</td>\n",
       "      <td>Members of the OpenOffice.org Community have s...</td>\n",
       "      <td>0</td>\n",
       "      <td>1</td>\n",
       "    </tr>\n",
       "    <tr>\n",
       "      <th>9293</th>\n",
       "      <td>Tim Golden &lt;cggc@timgolden.me.uk&gt;</td>\n",
       "      <td></td>\n",
       "      <td>Re: [python-win32] win32gui.EnumWindows, docum...</td>\n",
       "      <td>Julius wrote: &gt; Hi, &gt; &gt; im new to python in ge...</td>\n",
       "      <td>0</td>\n",
       "      <td>1</td>\n",
       "    </tr>\n",
       "    <tr>\n",
       "      <th>25284</th>\n",
       "      <td>Doreen Pool &lt;dwtebulm@tebul.fi&gt;</td>\n",
       "      <td>user2.4@gvc.ceas-challenge.cc</td>\n",
       "      <td>From Doreen Pool</td>\n",
       "      <td>B mz u haf y From On myd line P qzy har yg ma ...</td>\n",
       "      <td>1</td>\n",
       "      <td>1</td>\n",
       "    </tr>\n",
       "    <tr>\n",
       "      <th>36276</th>\n",
       "      <td>CNN Alerts &lt;muonadat_1969@frlaw.com&gt;</td>\n",
       "      <td>user7-ext5@gvc.ceas-challenge.cc</td>\n",
       "      <td>CNN Alerts: My Custom Alert</td>\n",
       "      <td>CNN Alerts: My Custom Alert Alert Name: My Cus...</td>\n",
       "      <td>1</td>\n",
       "      <td>0</td>\n",
       "    </tr>\n",
       "    <tr>\n",
       "      <th>14211</th>\n",
       "      <td>mouss &lt;qpeqr@netoyen.net&gt;</td>\n",
       "      <td>Juan Miscaro &lt;obao_fb@yahoo.ca&gt;</td>\n",
       "      <td>Re: maidrop error: Unable to open mailbox (why?)</td>\n",
       "      <td>Juan Miscaro wrote: &gt; --- mouss wrote: &gt; &gt; &gt; &gt;...</td>\n",
       "      <td>0</td>\n",
       "      <td>0</td>\n",
       "    </tr>\n",
       "  </tbody>\n",
       "</table>\n",
       "</div>"
      ],
      "text/plain": [
       "                                     sender                          receiver  \\\n",
       "7775   John McCreesh <ygpeu@openoffice.org>           askfvcva@openoffice.org   \n",
       "9293      Tim Golden <cggc@timgolden.me.uk>                                     \n",
       "25284       Doreen Pool <dwtebulm@tebul.fi>     user2.4@gvc.ceas-challenge.cc   \n",
       "36276  CNN Alerts <muonadat_1969@frlaw.com>  user7-ext5@gvc.ceas-challenge.cc   \n",
       "14211             mouss <qpeqr@netoyen.net>   Juan Miscaro <obao_fb@yahoo.ca>   \n",
       "\n",
       "                                                 subject  \\\n",
       "7775   [ooo-announce] The OpenOffice.org Annual Confe...   \n",
       "9293   Re: [python-win32] win32gui.EnumWindows, docum...   \n",
       "25284                                   From Doreen Pool   \n",
       "36276                        CNN Alerts: My Custom Alert   \n",
       "14211   Re: maidrop error: Unable to open mailbox (why?)   \n",
       "\n",
       "                                                    body  label  urls  \n",
       "7775   Members of the OpenOffice.org Community have s...      0     1  \n",
       "9293   Julius wrote: > Hi, > > im new to python in ge...      0     1  \n",
       "25284  B mz u haf y From On myd line P qzy har yg ma ...      1     1  \n",
       "36276  CNN Alerts: My Custom Alert Alert Name: My Cus...      1     0  \n",
       "14211  Juan Miscaro wrote: > --- mouss wrote: > > > >...      0     0  "
      ]
     },
     "metadata": {},
     "output_type": "display_data"
    }
   ],
   "source": [
    "# 1) No missing values anywhere\n",
    "missing_after = df.isna().sum().sort_values(ascending=False)\n",
    "print(\"Missing values per column (AFTER):\\n\", missing_after, \"\\n\")\n",
    "assert missing_after.sum() == 0, \"There are still missing values. Please review.\"\n",
    "\n",
    "# 2) Dtypes look sensible\n",
    "print(\"Dtypes AFTER:\\n\", df.dtypes, \"\\n\")\n",
    "\n",
    "# 3) Binary columns contain only 0/1\n",
    "for col in [\"label\", \"urls\"]:\n",
    "    if col in df.columns:\n",
    "        uniq = sorted(df[col].unique().tolist())\n",
    "        print(f\"Unique values in `{col}`:\", uniq)\n",
    "        assert set(uniq).issubset({0, 1}), f\"{col} must be binary 0/1.\"\n",
    "\n",
    "# 4) Quick sanity on text: show a few cleaned samples\n",
    "display(df.sample(5, random_state=7)[[\"sender\",\"receiver\",\"subject\",\"body\",\"label\",\"urls\"]])\n"
   ]
  },
  {
   "cell_type": "code",
   "execution_count": 23,
   "id": "3f92768f",
   "metadata": {},
   "outputs": [
    {
     "name": "stdout",
     "output_type": "stream",
     "text": [
      "✅ Saved cleaned dataset → cleaned_CEAS_08.csv\n"
     ]
    }
   ],
   "source": [
    "cleaned_path = \"cleaned_CEAS_08.csv\"\n",
    "df.to_csv(cleaned_path, index=False, encoding=\"utf-8\")\n",
    "print(f\"✅ Saved cleaned dataset → {cleaned_path}\")\n"
   ]
  },
  {
   "cell_type": "markdown",
   "id": "97354780",
   "metadata": {},
   "source": [
    "**Validation Summary**\n",
    "- No missing values remain across all columns.\n",
    "- `label` and `urls` are strictly binary (0/1).\n",
    "- Text fields are trimmed and normalized (no odd spacing).\n",
    "- Cleaned dataset exported as **cleaned_CEAS_08.csv** and ready for next steps.\n"
   ]
  },
  {
   "cell_type": "markdown",
   "id": "f84e2bf7",
   "metadata": {},
   "source": [
    "---\n",
    "### Step 4: Feature Extraction (Renad)"
   ]
  },
  {
   "cell_type": "markdown",
   "id": "74fd417d",
   "metadata": {},
   "source": [
    "---\n",
    "\n",
    "### Step 5: Text Preprocessing(Rahaf & Rawan) "
   ]
  },
  {
   "cell_type": "markdown",
   "id": "51eed4c0",
   "metadata": {},
   "source": [
    "---\n",
    "\n",
    "### Step 6: Text Representation (Vectorization) (Salha) "
   ]
  },
  {
   "cell_type": "markdown",
   "id": "4e12cf4a-d981-4ef2-976d-e500883ffc39",
   "metadata": {},
   "source": [
    "---\n",
    "---\n",
    "\n",
    "# pre-process flow مسودة ونوتات ريناد"
   ]
  },
  {
   "cell_type": "markdown",
   "id": "192e1ad1-e3eb-485e-9dfb-afcdd1d6c871",
   "metadata": {},
   "source": [
    "### sender / receiver: Optional to keep, mostly metadata"
   ]
  },
  {
   "cell_type": "markdown",
   "id": "545df2d6-445f-4a6d-8ee2-7581cd73d23f",
   "metadata": {},
   "source": [
    "### subject / body: Critical for spam detection.\n",
    "\n",
    "### Missing body → drop row  or replace with empty string?.\n",
    "\n",
    "### Missing subject → replace with empty string."
   ]
  },
  {
   "cell_type": "markdown",
   "id": "5ec588ab-377f-4593-b0ed-6ff8a0ff8cb2",
   "metadata": {},
   "source": [
    "### urls / label: Must not be missing. Drop any row missing these."
   ]
  },
  {
   "cell_type": "markdown",
   "id": "367e9b8f-232c-4ae5-9178-5d180aed93b0",
   "metadata": {},
   "source": [
    "### 2. Feature Extraction / Engineering\n",
    "### 1. Combine subject + body into a single text field for modeling i think for text represention as a vector\n",
    "### 2. extract text length as a numeric feature a new column\n",
    "### 3. maybe another column that counts a word occurence and all captical words in a text\n",
    "### 4. Sender/Receiver metadata (optional)\n",
    "\n",
    "### Could extract domains from email addresses: \"gmail.com\", \"yahoo.com\", etc.\n",
    "\n",
    "### Could count frequency of sender → some frequent spammers."
   ]
  },
  {
   "cell_type": "markdown",
   "id": "ee91b28c-553b-42d3-b5d6-15903ae1dd27",
   "metadata": {},
   "source": [
    "# 3. Text Preprocessing (NLP)\n",
    "\n",
    "### This is key for the text column (subject + body): i think we should combine it\n",
    "\n",
    "### 1.Cleaning\n",
    "\n",
    "### Remove HTML tags, punctuation, extra whitespace.\n",
    "\n",
    "### Keep uppercase info optionally (important for spam detection).\n",
    "\n",
    "### 2.Tokenization\n",
    "\n",
    "### Split text into words.\n",
    "\n",
    "### Stopword handling\n",
    "\n",
    "### Optional: sometimes keeping stopwords is better for spam detection.?\n",
    "\n",
    "### 3.Stemming / Lemmatization idk maybe not? for better detection ?\n",
    "\n",
    "\n",
    "### 4.Feature representation\n",
    "\n",
    "### Convert to numeric vectors: TF-IDF, Bag-of-Words, or word embeddings for model input."
   ]
  }
 ],
 "metadata": {
  "kernelspec": {
   "display_name": ".venv",
   "language": "python",
   "name": "python3"
  },
  "language_info": {
   "codemirror_mode": {
    "name": "ipython",
    "version": 3
   },
   "file_extension": ".py",
   "mimetype": "text/x-python",
   "name": "python",
   "nbconvert_exporter": "python",
   "pygments_lexer": "ipython3",
   "version": "3.13.2"
  }
 },
 "nbformat": 4,
 "nbformat_minor": 5
}
