{
 "cells": [
  {
   "cell_type": "markdown",
   "id": "3dd8796d-6472-406b-b2d4-0df7500e6dac",
   "metadata": {},
   "source": [
    "# Spam email detector system"
   ]
  },
  {
   "cell_type": "markdown",
   "id": "ec1219cc-448b-4ef5-945e-35b1e252e901",
   "metadata": {},
   "source": [
    "## Phase1: Problem Understanding and Data Exploration"
   ]
  },
  {
   "cell_type": "markdown",
   "id": "d87e3001-f4e5-486e-97ad-1c27e4b045c2",
   "metadata": {},
   "source": [
    "## 1. Problem Definition\n",
    "\n",
    "The aim of this project is to build an **automated spam detection system** that classifies incoming text messages or emails as **spam** or **not spam (ham)**. This system acts as a **text-based advice system**, providing guidance to users on which messages are safe to open and which may be unwanted or potentially harmful.  \n",
    "\n",
    "Specifically, the system will:  \n",
    "- Analyze the content of emails or SMS messages.  \n",
    "- Advise users on message safety by labeling messages as spam or ham.  \n",
    "- Reduce user exposure to phishing, scams, and unsolicited advertisements.  \n",
    "\n",
    "The system is a **binary classification system** in the field of **Natural Language Processing (NLP)**.\n",
    "\n",
    "---\n",
    "\n",
    "## 2. Scope\n",
    "\n",
    "- Focuses on **text data** only (no images or attachments).  \n",
    "- Initially handles **English-language messages**.  \n",
    "- Provides **real-time or batch classification** of messages.  \n",
    "\n",
    "---\n",
    "\n",
    "## 3. Dataset\n",
    "\n",
    "**Data Source Options:**  \n",
    "- [Phishing Email Dataset](https://www.kaggle.com/datasets/naserabdullahalam/phishing-email-dataset)  \n",
    "\n",
    "**Data Columns:**  \n",
    "- `sender`: Email or phone number of the message sender  \n",
    "- `receiver`: Recipient email or phone number  \n",
    "- `date`: Timestamp of the message  \n",
    "- `subject`: Subject line of the message  \n",
    "- `body`: Main content of the message (text)  \n",
    "- `label`: `if its spam 1` or `0` (number)  \n",
    "- `urls`: `if it contains a URL 1` or `0` (number)  \n",
    "\n",
    "**Exploration Tasks:**  \n",
    "- Count the number of spam vs. ham messages and check the classes balance.  \n",
    " \n",
    "\n",
    "---\n",
    "\n",
    "## 4. NLP Context\n",
    "\n",
    "Spam detection is primarily an **NLP problem** because it involves understanding the content and context of text messages.  \n",
    "\n",
    "**Preprocessing tasks include:**  \n",
    "1. Cleaning text (removing HTML, punctuation, extra spaces).  \n",
    "2. Tokenization (splitting text into words).  \n",
    "3. Optional stopword removal.  \n",
    "4. Stemming or lemmatization to reduce words to root forms.  \n",
    "5. Feature extraction using techniques like **TF-IDF** or **word embeddings**.  \n",
    "\n"
   ]
  },
  {
   "cell_type": "code",
   "execution_count": 1,
   "id": "cb08a491-9dff-41f3-adaf-c0697ae38d5b",
   "metadata": {},
   "outputs": [],
   "source": [
    "import pandas as pd"
   ]
  },
  {
   "cell_type": "code",
   "execution_count": 2,
   "id": "adc8c66f-3b12-45e8-aec4-eefde7565891",
   "metadata": {},
   "outputs": [
    {
     "data": {
      "text/html": [
       "<div>\n",
       "<style scoped>\n",
       "    .dataframe tbody tr th:only-of-type {\n",
       "        vertical-align: middle;\n",
       "    }\n",
       "\n",
       "    .dataframe tbody tr th {\n",
       "        vertical-align: top;\n",
       "    }\n",
       "\n",
       "    .dataframe thead th {\n",
       "        text-align: right;\n",
       "    }\n",
       "</style>\n",
       "<table border=\"1\" class=\"dataframe\">\n",
       "  <thead>\n",
       "    <tr style=\"text-align: right;\">\n",
       "      <th></th>\n",
       "      <th>sender</th>\n",
       "      <th>receiver</th>\n",
       "      <th>date</th>\n",
       "      <th>subject</th>\n",
       "      <th>body</th>\n",
       "      <th>label</th>\n",
       "      <th>urls</th>\n",
       "    </tr>\n",
       "  </thead>\n",
       "  <tbody>\n",
       "    <tr>\n",
       "      <th>0</th>\n",
       "      <td>Young Esposito &lt;Young@iworld.de&gt;</td>\n",
       "      <td>user4@gvc.ceas-challenge.cc</td>\n",
       "      <td>Tue, 05 Aug 2008 16:31:02 -0700</td>\n",
       "      <td>Never agree to be a loser</td>\n",
       "      <td>Buck up, your troubles caused by small dimensi...</td>\n",
       "      <td>1</td>\n",
       "      <td>1</td>\n",
       "    </tr>\n",
       "    <tr>\n",
       "      <th>1</th>\n",
       "      <td>Mok &lt;ipline's1983@icable.ph&gt;</td>\n",
       "      <td>user2.2@gvc.ceas-challenge.cc</td>\n",
       "      <td>Tue, 05 Aug 2008 18:31:03 -0500</td>\n",
       "      <td>Befriend Jenna Jameson</td>\n",
       "      <td>\\nUpgrade your sex and pleasures with these te...</td>\n",
       "      <td>1</td>\n",
       "      <td>1</td>\n",
       "    </tr>\n",
       "    <tr>\n",
       "      <th>2</th>\n",
       "      <td>Daily Top 10 &lt;Karmandeep-opengevl@universalnet...</td>\n",
       "      <td>user2.9@gvc.ceas-challenge.cc</td>\n",
       "      <td>Tue, 05 Aug 2008 20:28:00 -1200</td>\n",
       "      <td>CNN.com Daily Top 10</td>\n",
       "      <td>&gt;+=+=+=+=+=+=+=+=+=+=+=+=+=+=+=+=+=+=+=+=+=+=+...</td>\n",
       "      <td>1</td>\n",
       "      <td>1</td>\n",
       "    </tr>\n",
       "    <tr>\n",
       "      <th>3</th>\n",
       "      <td>Michael Parker &lt;ivqrnai@pobox.com&gt;</td>\n",
       "      <td>SpamAssassin Dev &lt;xrh@spamassassin.apache.org&gt;</td>\n",
       "      <td>Tue, 05 Aug 2008 17:31:20 -0600</td>\n",
       "      <td>Re: svn commit: r619753 - in /spamassassin/tru...</td>\n",
       "      <td>Would anyone object to removing .so from this ...</td>\n",
       "      <td>0</td>\n",
       "      <td>1</td>\n",
       "    </tr>\n",
       "    <tr>\n",
       "      <th>4</th>\n",
       "      <td>Gretchen Suggs &lt;externalsep1@loanofficertool.com&gt;</td>\n",
       "      <td>user2.2@gvc.ceas-challenge.cc</td>\n",
       "      <td>Tue, 05 Aug 2008 19:31:21 -0400</td>\n",
       "      <td>SpecialPricesPharmMoreinfo</td>\n",
       "      <td>\\nWelcomeFastShippingCustomerSupport\\nhttp://7...</td>\n",
       "      <td>1</td>\n",
       "      <td>1</td>\n",
       "    </tr>\n",
       "  </tbody>\n",
       "</table>\n",
       "</div>"
      ],
      "text/plain": [
       "                                              sender  \\\n",
       "0                   Young Esposito <Young@iworld.de>   \n",
       "1                       Mok <ipline's1983@icable.ph>   \n",
       "2  Daily Top 10 <Karmandeep-opengevl@universalnet...   \n",
       "3                 Michael Parker <ivqrnai@pobox.com>   \n",
       "4  Gretchen Suggs <externalsep1@loanofficertool.com>   \n",
       "\n",
       "                                         receiver  \\\n",
       "0                     user4@gvc.ceas-challenge.cc   \n",
       "1                   user2.2@gvc.ceas-challenge.cc   \n",
       "2                   user2.9@gvc.ceas-challenge.cc   \n",
       "3  SpamAssassin Dev <xrh@spamassassin.apache.org>   \n",
       "4                   user2.2@gvc.ceas-challenge.cc   \n",
       "\n",
       "                              date  \\\n",
       "0  Tue, 05 Aug 2008 16:31:02 -0700   \n",
       "1  Tue, 05 Aug 2008 18:31:03 -0500   \n",
       "2  Tue, 05 Aug 2008 20:28:00 -1200   \n",
       "3  Tue, 05 Aug 2008 17:31:20 -0600   \n",
       "4  Tue, 05 Aug 2008 19:31:21 -0400   \n",
       "\n",
       "                                             subject  \\\n",
       "0                          Never agree to be a loser   \n",
       "1                             Befriend Jenna Jameson   \n",
       "2                               CNN.com Daily Top 10   \n",
       "3  Re: svn commit: r619753 - in /spamassassin/tru...   \n",
       "4                         SpecialPricesPharmMoreinfo   \n",
       "\n",
       "                                                body  label  urls  \n",
       "0  Buck up, your troubles caused by small dimensi...      1     1  \n",
       "1  \\nUpgrade your sex and pleasures with these te...      1     1  \n",
       "2  >+=+=+=+=+=+=+=+=+=+=+=+=+=+=+=+=+=+=+=+=+=+=+...      1     1  \n",
       "3  Would anyone object to removing .so from this ...      0     1  \n",
       "4  \\nWelcomeFastShippingCustomerSupport\\nhttp://7...      1     1  "
      ]
     },
     "execution_count": 2,
     "metadata": {},
     "output_type": "execute_result"
    }
   ],
   "source": [
    "df=pd.read_csv(\"CEAS_08.csv\")\n",
    "df.head()\n",
    "#if lable 1 its a scamming email if 0 no"
   ]
  },
  {
   "cell_type": "code",
   "execution_count": 3,
   "id": "2840a2f1-e614-42f1-8266-e2d0f8c88e90",
   "metadata": {},
   "outputs": [
    {
     "data": {
      "text/plain": [
       "39154"
      ]
     },
     "execution_count": 3,
     "metadata": {},
     "output_type": "execute_result"
    }
   ],
   "source": [
    "len(df)"
   ]
  },
  {
   "cell_type": "code",
   "execution_count": 15,
   "id": "941fc786-4a26-4378-bc6c-1f269a28c378",
   "metadata": {},
   "outputs": [
    {
     "name": "stdout",
     "output_type": "stream",
     "text": [
      "detailed: (39154, 7) label\n",
      "1    21842\n",
      "0    17312\n",
      "Name: count, dtype: int64\n"
     ]
    }
   ],
   "source": [
    "print(\"detailed:\", df.shape, df['label'].value_counts())"
   ]
  },
  {
   "cell_type": "code",
   "execution_count": 2,
   "id": "29e8af32-7198-4ea2-bd31-121357a1591f",
   "metadata": {},
   "outputs": [
    {
     "data": {
      "image/png": "[encoded data removed]",
      "text/plain": [
       "<Figure size 640x480 with 1 Axes>"
      ]
     },
     "metadata": {},
     "output_type": "display_data"
    }
   ],
   "source": [
    "import matplotlib.pyplot as plt\n",
    "\n",
    "labels = ['Ham (0)', 'Spam (1)']\n",
    "counts = [17312, 21842]\n",
    "\n",
    "plt.bar(labels, counts, color=['skyblue', 'salmon'])\n",
    "plt.title('Emails Label Distribution')\n",
    "plt.ylabel('Number of messages')\n",
    "plt.show()\n"
   ]
  },
  {
   "cell_type": "markdown",
   "id": "cf8393c5-43c6-4348-9ccc-435bcd779e2a",
   "metadata": {},
   "source": [
    "### classess are in a good ratio of balance"
   ]
  },
  {
   "cell_type": "markdown",
   "id": "4e12cf4a-d981-4ef2-976d-e500883ffc39",
   "metadata": {},
   "source": [
    "# pre-process"
   ]
  },
  {
   "cell_type": "code",
   "execution_count": null,
   "id": "06a51c37-74ca-4e2a-83f5-5de1fd6dcbe2",
   "metadata": {},
   "outputs": [],
   "source": []
  }
 ],
 "metadata": {
  "kernelspec": {
   "display_name": "Python 3 (ipykernel)",
   "language": "python",
   "name": "python3"
  },
  "language_info": {
   "codemirror_mode": {
    "name": "ipython",
    "version": 3
   },
   "file_extension": ".py",
   "mimetype": "text/x-python",
   "name": "python",
   "nbconvert_exporter": "python",
   "pygments_lexer": "ipython3",
   "version": "3.10.11"
  }
 },
 "nbformat": 4,
 "nbformat_minor": 5
}
